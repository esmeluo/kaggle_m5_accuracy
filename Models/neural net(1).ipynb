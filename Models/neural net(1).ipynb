{
 "cells": [
  {
   "cell_type": "code",
   "execution_count": 268,
   "metadata": {},
   "outputs": [],
   "source": [
    "# General imports\n",
    "import numpy as np\n",
    "import pandas as pd\n",
    "import os, sys, gc, time, warnings, pickle, psutil, random\n",
    "import matplotlib.pyplot as plt\n",
    "import seaborn as sns\n",
    "# custom imports\n",
    "from multiprocessing import Pool        # Multiprocess Runs\n",
    "\n",
    "warnings.filterwarnings('ignore')"
   ]
  },
  {
   "cell_type": "code",
   "execution_count": 2,
   "metadata": {},
   "outputs": [],
   "source": [
    "########################### Helpers\n",
    "#################################################################################\n",
    "## Seeder\n",
    "# :seed to make all processes deterministic     # type: int\n",
    "def seed_everything(seed=0):\n",
    "    random.seed(seed)\n",
    "    np.random.seed(seed)\n",
    "\n",
    "    \n",
    "## Multiprocess Runs\n",
    "def df_parallelize_run(func, t_split):\n",
    "    num_cores = np.min([N_CORES,len(t_split)])\n",
    "    pool = Pool(num_cores)\n",
    "    df = pd.concat(pool.map(func, t_split), axis=1)\n",
    "    pool.close()\n",
    "    pool.join()\n",
    "    return df"
   ]
  },
  {
   "cell_type": "code",
   "execution_count": 3,
   "metadata": {},
   "outputs": [],
   "source": [
    "########################### Vars\n",
    "#################################################################################\n",
    "VER = 1                          # Our model version\n",
    "SEED = 42                        # We want all things\n",
    "seed_everything(SEED)            # to be as deterministic \n",
    "# lgb_params['seed'] = SEED        # as possible\n",
    "N_CORES = psutil.cpu_count()     # Available CPU cores\n",
    "\n",
    "\n",
    "#LIMITS and const\n",
    "TARGET      = 'sales'            # Our target\n",
    "START_TRAIN = 0                  # We can skip some rows (Nans/faster training)\n",
    "END_TRAIN   = 1941               # End day of our train set\n",
    "START_VALID = 1913\n",
    "P_HORIZON   = 28                 # Prediction horizon\n",
    "USE_AUX     = False               # Use or not pretrained models\n",
    "\n",
    "#FEATURES to remove\n",
    "## These features lead to overfit\n",
    "## or values not present in test set\n",
    "remove_features = ['id','state_id','store_id',\n",
    "                   'date','wm_yr_wk','d',TARGET]\n",
    "mean_features   = ['enc_cat_id_mean','enc_cat_id_std',\n",
    "                   'enc_dept_id_mean','enc_dept_id_std',\n",
    "                   'enc_item_id_mean','enc_item_id_std'] \n",
    "\n",
    "#PATHS for Features\n",
    "ORIGINAL = 'data/m5-forecasting-accuracy/'\n",
    "BASE     = 'data/m5-original-simple-fe/grid_part_1.pkl'\n",
    "PRICE    = 'data/m5-original-simple-fe/grid_part_2.pkl'\n",
    "CALENDAR = 'data/m5-original-simple-fe/grid_part_3.pkl'\n",
    "LAGS     = 'data/m5-lags-features/original.pkl'\n",
    "MEAN_ENC = 'data/m5-custom-features/mean_encoding_df.pkl'\n",
    "\n",
    "\n",
    "# AUX(pretrained) Models paths\n",
    "AUX_MODELS = 'data/m5-aux-models/'\n",
    "\n",
    "\n",
    "#STORES ids\n",
    "STORES_IDS = pd.read_csv(ORIGINAL+'sales_train_evaluation.csv')['store_id']\n",
    "STORES_IDS = list(STORES_IDS.unique())\n",
    "\n",
    "\n",
    "#SPLITS for lags creation\n",
    "SHIFT_DAY  = 28\n",
    "N_LAGS     = 15\n",
    "LAGS_SPLIT = [col for col in range(SHIFT_DAY,SHIFT_DAY+N_LAGS)]\n",
    "ROLS_SPLIT = []\n",
    "for i in [1,7,14]:\n",
    "    for j in [7,14,30,60]:\n",
    "        ROLS_SPLIT.append([i,j])"
   ]
  },
  {
   "cell_type": "code",
   "execution_count": 4,
   "metadata": {},
   "outputs": [],
   "source": [
    "########################### Helper to load data by store ID\n",
    "#################################################################################\n",
    "# Read data\n",
    "def get_data_by_store(store):\n",
    "    \n",
    "    # Read and contact basic feature\n",
    "    df = pd.concat([pd.read_pickle(BASE),\n",
    "                    pd.read_pickle(PRICE).iloc[:,2:],\n",
    "                    pd.read_pickle(CALENDAR).iloc[:,2:]],\n",
    "                    axis=1)\n",
    "    \n",
    "    # Leave only relevant store\n",
    "    df = df[df['store_id']==store]\n",
    "\n",
    "    # With memory limits we have to read \n",
    "    # lags and mean encoding features\n",
    "    # separately and drop items that we don't need.\n",
    "    # As our Features Grids are aligned \n",
    "    # we can use index to keep only necessary rows\n",
    "    # Alignment is good for us as concat uses less memory than merge.\n",
    "    df2 = pd.read_pickle(MEAN_ENC)[mean_features]\n",
    "    df2 = df2[df2.index.isin(df.index)]\n",
    "    \n",
    "    df3 = pd.read_pickle(LAGS).iloc[:,3:]\n",
    "    df3 = df3[df3.index.isin(df.index)]\n",
    "    \n",
    "    df = pd.concat([df, df2], axis=1)\n",
    "    del df2 # to not reach memory limit \n",
    "    \n",
    "    df = pd.concat([df, df3], axis=1)\n",
    "    del df3 # to not reach memory limit \n",
    "    \n",
    "    # Create features list\n",
    "    features = [col for col in list(df) if col not in remove_features]\n",
    "    df = df[['id','d',TARGET]+features]\n",
    "    \n",
    "    # Skipping first n rows\n",
    "    df = df[df['d']>=START_TRAIN].reset_index(drop=True)\n",
    "    \n",
    "    return df, features\n",
    "\n",
    "# Recombine Test set after training\n",
    "def get_base_test():\n",
    "    base_test = pd.DataFrame()\n",
    "\n",
    "    for store_id in STORES_IDS:\n",
    "        temp_df = pd.read_pickle('test_'+store_id+'.pkl')\n",
    "        temp_df['store_id'] = store_id\n",
    "        base_test = pd.concat([base_test, temp_df]).reset_index(drop=True)\n",
    "    \n",
    "    return base_test\n",
    "# -------------------------------------\n",
    "def get_base_valid():\n",
    "    base_test = pd.DataFrame()\n",
    "\n",
    "    for store_id in STORES_IDS:\n",
    "        temp_df = pd.read_pickle('valid_'+store_id+'.pkl')\n",
    "        temp_df['store_id'] = store_id\n",
    "        base_test = pd.concat([base_test, temp_df]).reset_index(drop=True)\n",
    "    \n",
    "    return base_test\n",
    "# -------------------------------------\n",
    "\n",
    "########################### Helper to make dynamic rolling lags\n",
    "#################################################################################\n",
    "def make_lag(LAG_DAY):\n",
    "    lag_df = base_test[['id','d',TARGET]]\n",
    "    col_name = 'sales_lag_'+str(LAG_DAY)\n",
    "    lag_df[col_name] = lag_df.groupby(['id'])[TARGET].transform(lambda x: x.shift(LAG_DAY)).astype(np.float16)\n",
    "    return lag_df[[col_name]]\n",
    "\n",
    "\n",
    "def make_lag_roll(LAG_DAY):\n",
    "    shift_day = LAG_DAY[0]\n",
    "    roll_wind = LAG_DAY[1]\n",
    "    lag_df = base_test[['id','d',TARGET]]\n",
    "    col_name = 'rolling_mean_tmp_'+str(shift_day)+'_'+str(roll_wind)\n",
    "    lag_df[col_name] = lag_df.groupby(['id'])[TARGET].transform(lambda x: x.shift(shift_day).rolling(roll_wind).mean())\n",
    "    return lag_df[[col_name]]"
   ]
  },
  {
   "cell_type": "code",
   "execution_count": 5,
   "metadata": {},
   "outputs": [],
   "source": [
    "grid_df, features = get_data_by_store('CA_1')"
   ]
  },
  {
   "cell_type": "code",
   "execution_count": 6,
   "metadata": {},
   "outputs": [],
   "source": [
    "duplicated_features =  ['d','event_name_1', 'event_type_1', 'event_name_2', 'event_type_2', 'snap_CA', 'snap_TX', 'snap_WI', 'tm_d', 'tm_w',\n",
    "             'tm_m', 'tm_y', 'tm_wm', 'tm_dw', 'tm_w_end']\n",
    "sum_features = ['d', 'sales', 'sales_lag_28', 'sales_lag_29',\n",
    "               'sales_lag_30', 'sales_lag_31', 'sales_lag_32', 'sales_lag_33',\n",
    "               'sales_lag_34', 'sales_lag_35', 'sales_lag_36', 'sales_lag_37',\n",
    "               'sales_lag_38', 'sales_lag_39', 'sales_lag_40', 'sales_lag_41',\n",
    "               'sales_lag_42']"
   ]
  },
  {
   "cell_type": "code",
   "execution_count": 300,
   "metadata": {},
   "outputs": [],
   "source": [
    "# START_TRAIN = 42                  # We can skip some rows (Nans/faster training)\n",
    "# END_TRAIN   = 1941               # End day of our train set\n",
    "# START_VALID = 1913\n",
    "# P_HORIZON   = 28                 # Prediction horizon\n",
    "\n",
    "START_TRAIN = 42                  # We can skip some rows (Nans/faster training)\n",
    "END_TRAIN   = 1913               # End day of our train set\n",
    "# START_VALID = 1885\n",
    "START_VALID = 1800\n",
    "P_HORIZON   = 28                 # Prediction horizon\n",
    "END_TEST = 1941"
   ]
  },
  {
   "cell_type": "code",
   "execution_count": 301,
   "metadata": {},
   "outputs": [],
   "source": [
    "X1 = grid_df[sum_features].groupby('d').agg('sum')\n",
    "X2 = grid_df[duplicated_features].drop_duplicates().set_index('d')\n",
    "X2 = X2.drop(columns=['snap_TX','snap_WI'])\n",
    "# X1 = X1.drop(index=[331,697,1062,1427,1792])\n",
    "# X2 = X2.drop(index=[331,697,1062,1427,1792])\n",
    "\n",
    "train_X1 = X1.iloc[START_TRAIN:START_VALID+27].copy()\n",
    "train_X2 = X2.iloc[START_TRAIN:START_VALID+27].copy()\n",
    "\n",
    "valid_X1 = X1.iloc[START_VALID:END_TRAIN].copy()\n",
    "valid_X2 = X2.iloc[START_VALID:END_TRAIN].copy()\n",
    "\n",
    "test_X1 = X1.iloc[END_TRAIN-27:END_TEST].copy()\n",
    "test_X2 = X2.iloc[END_TRAIN-27:END_TEST].copy()\n",
    "\n",
    "train_X1 = train_X1.drop(index=[331,697,1062,1427,1792])\n",
    "train_X2 = train_X2.drop(index=[331,697,1062,1427,1792])"
   ]
  },
  {
   "cell_type": "code",
   "execution_count": 252,
   "metadata": {},
   "outputs": [],
   "source": [
    "# train_X1 = np.log1p(train_X1)\n",
    "# valid_X1 = np.log1p(valid_X1)\n",
    "# test_X1 = np.log1p(test_X1)"
   ]
  },
  {
   "cell_type": "code",
   "execution_count": 271,
   "metadata": {},
   "outputs": [],
   "source": [
    "target_mean = train_X1['sales'].mean()\n",
    "target_std = train_X1['sales'].std()\n",
    "feature_mean = pd.concat([train_X1,valid_X1]).drop(columns='sales').astype(float).mean()\n",
    "feature_std = pd.concat([train_X1,valid_X1]).drop(columns='sales').astype(float).std()"
   ]
  },
  {
   "cell_type": "code",
   "execution_count": 272,
   "metadata": {},
   "outputs": [],
   "source": [
    "train_X1['sales'] = (train_X1['sales'] - target_mean) / target_std\n",
    "train_X1.iloc[:,1:] = (train_X1.iloc[:,1:] - feature_mean) / feature_std\n",
    "\n",
    "valid_X1['sales'] = (valid_X1['sales'] - target_mean) / target_std\n",
    "valid_X1.iloc[:,1:] = (valid_X1.iloc[:,1:] - feature_mean) / feature_std\n",
    "\n",
    "test_X1['sales'] = (test_X1['sales'] - target_mean) / target_std\n",
    "test_X1.iloc[:,1:] = (test_X1.iloc[:,1:] - feature_mean) / feature_std"
   ]
  },
  {
   "cell_type": "code",
   "execution_count": 273,
   "metadata": {},
   "outputs": [],
   "source": [
    "train_X1 = train_X1.astype(float)\n",
    "valid_X1 = valid_X1.astype(float)\n",
    "test_X1 = test_X1.astype(float)"
   ]
  },
  {
   "cell_type": "code",
   "execution_count": 274,
   "metadata": {},
   "outputs": [],
   "source": [
    "# event_name_dict_1 = {}\n",
    "# for event_name_1 in X2['event_name_1'].unique():\n",
    "#     event_name_dict_1[event_name_1] = len(event_name_dict_1)\n",
    "# event_name_dict_2 = {}\n",
    "# for event_name_2 in X2['event_name_2'].unique():\n",
    "#     event_name_dict_2[event_name_2] = len(event_name_dict_2)\n",
    "# event_type_dict_1 = {}\n",
    "# for event_type_1 in X2['event_type_1'].unique():\n",
    "#     event_type_dict_1[event_type_1] = len(event_type_dict_1)\n",
    "# event_type_dict_2 = {}\n",
    "# for event_type_2 in X2['event_type_2'].unique():\n",
    "#     event_type_dict_2[event_type_2] = len(event_type_dict_2)\n"
   ]
  },
  {
   "cell_type": "code",
   "execution_count": 275,
   "metadata": {},
   "outputs": [],
   "source": [
    "# X2['event_name_1'] = X2['event_name_1'].map(event_name_dict_1)\n",
    "# X2['event_name_2'] = X2['event_name_2'].map(event_name_dict_2)\n",
    "# X2['event_type_1'] = X2['event_type_1'].map(event_type_dict_1)\n",
    "# X2['event_type_2'] = X2['event_type_2'].map(event_type_dict_2)"
   ]
  },
  {
   "cell_type": "markdown",
   "metadata": {},
   "source": [
    "## Model"
   ]
  },
  {
   "cell_type": "code",
   "execution_count": 276,
   "metadata": {},
   "outputs": [],
   "source": [
    "import torch\n",
    "import torch.nn as nn\n",
    "import torch.optim as optim\n",
    "from torch.utils.data import Dataset, DataLoader"
   ]
  },
  {
   "cell_type": "code",
   "execution_count": 277,
   "metadata": {},
   "outputs": [],
   "source": [
    "class ContiniousDataset(Dataset):\n",
    "    def __init__(self, df):\n",
    "        self.y = df['sales'].values\n",
    "        self.X = df.drop(columns='sales').values\n",
    "    def __len__(self):\n",
    "        return(len(self.y))\n",
    "    def __getitem__(self,idx):\n",
    "        return self.X[idx], self.y[idx]\n",
    "    \n",
    "class RNNDataset(Dataset):\n",
    "    def __init__(self, df, test=False):\n",
    "        self.test = test\n",
    "        if not test:\n",
    "            self.y = df['sales'].values\n",
    "        self.X = df.drop(columns='sales').values\n",
    "    def __len__(self):\n",
    "        return(len(self.X)-27)\n",
    "    def __getitem__(self,idx):\n",
    "        if not self.test:\n",
    "            return self.X[idx:idx+28], self.y[idx+27]\n",
    "        return self.X[idx:idx+28]"
   ]
  },
  {
   "cell_type": "code",
   "execution_count": 278,
   "metadata": {},
   "outputs": [],
   "source": [
    "# train_dataset = ContiniousDataset(train_X1)\n",
    "# train_loader = DataLoader(train_dataset, batch_size=5)\n",
    "# valid_dataset = ContiniousDataset(valid_X1)\n",
    "# valid_loader = DataLoader(valid_dataset, batch_size=5)\n",
    "\n",
    "train_dataset = RNNDataset(train_X1)\n",
    "train_loader = DataLoader(train_dataset, batch_size=5)\n",
    "valid_dataset = RNNDataset(valid_X1)\n",
    "valid_loader = DataLoader(valid_dataset, batch_size=28)\n",
    "test_dataset = RNNDataset(test_X1,True)\n",
    "test_loader = DataLoader(test_dataset, batch_size=5)\n"
   ]
  },
  {
   "cell_type": "code",
   "execution_count": 279,
   "metadata": {},
   "outputs": [],
   "source": [
    "class TotalSaleModel(nn.Module):\n",
    "    def __init__(self):\n",
    "        super().__init__()\n",
    "#         self.event_name_1_emb = nn.Embedding(len(event_name_dict_1),5,padding_idx=0)\n",
    "#         self.event_name_2_emb = nn.Embedding(len(event_name_dict_2),5,padding_idx=0)\n",
    "#         self.event_type_1_emb = nn.Embedding(len(event_name_dict_1),3,padding_idx=0)\n",
    "#         self.event_name_2_emb = nn.Embedding(len(event_name_dict_2),3,padding_idx=0)\n",
    "#         self.event_name_2_emb = nn.Embedding(len(event_name_dict_2),3,padding_idx=0)\n",
    "        self.linear_1 = nn.Linear(15, 64)\n",
    "        self.linear_2 = nn.Linear(64, 128)\n",
    "        self.linear_3 = nn.Linear(128, 32)\n",
    "        self.linear_4 = nn.Linear(32, 1)\n",
    "    def forward(self,x):\n",
    "        x = self.linear_1(x)\n",
    "        x = nn.ReLU()(x)\n",
    "        x = self.linear_2(x)\n",
    "        x = nn.ReLU()(x)\n",
    "        x = self.linear_3(x)\n",
    "        x = nn.ReLU()(x)\n",
    "        x = self.linear_4(x)\n",
    "        return x\n",
    "    \n",
    "class TotalSaleRNNModel(nn.Module):\n",
    "    def __init__(self):\n",
    "        super().__init__()\n",
    "#         self.event_name_1_emb = nn.Embedding(len(event_name_dict_1),5,padding_idx=0)\n",
    "#         self.event_name_2_emb = nn.Embedding(len(event_name_dict_2),5,padding_idx=0)\n",
    "#         self.event_type_1_emb = nn.Embedding(len(event_name_dict_1),3,padding_idx=0)\n",
    "#         self.event_name_2_emb = nn.Embedding(len(event_name_dict_2),3,padding_idx=0)\n",
    "#         self.event_name_2_emb = nn.Embedding(len(event_name_dict_2),3,padding_idx=0)\n",
    "#         self.linear_1 = nn.Linear(15, 64)\n",
    "        self.lstm = nn.LSTM(15,32,num_layers=2,batch_first=True)\n",
    "#         self.linear_2 = nn.Linear(64, 128)\n",
    "#         self.linear_3 = nn.Linear(128, 32)\n",
    "        self.linear_3 = nn.Linear(32, 16)\n",
    "        self.linear_4 = nn.Linear(16, 1)\n",
    "    def forward(self,x):\n",
    "        x,_ = self.lstm(x)\n",
    "#         print(x.shape)\n",
    "        x = x[:,-1,:]\n",
    "#         print(x.shape)\n",
    "#         x = nn.Dropout(0.15)(x)\n",
    "        x = self.linear_3(x)\n",
    "#         print(x.shape)\n",
    "        x = nn.ReLU()(x)\n",
    "        x = self.linear_4(x)\n",
    "#         x = nn.ReLU()(x)\n",
    "#         x = self.linear_3(x)\n",
    "#         x = nn.ReLU()(x)\n",
    "#         x = self.linear_4(x)\n",
    "        return x"
   ]
  },
  {
   "cell_type": "code",
   "execution_count": 280,
   "metadata": {},
   "outputs": [],
   "source": [
    "# model = TotalSaleModel()\n",
    "device = torch.device('cuda:1')\n",
    "model = TotalSaleRNNModel().to(device)\n",
    "optimizer = optim.Adam(model.parameters(),lr = 0.0001,weight_decay=0.001)"
   ]
  },
  {
   "cell_type": "code",
   "execution_count": 281,
   "metadata": {},
   "outputs": [
    {
     "name": "stdout",
     "output_type": "stream",
     "text": [
      "epoch:  0\n",
      "train loss:  0.9758421417930697\n",
      "valid loss:  1.6674275398254395\n",
      "epoch:  1\n",
      "train loss:  0.8884144985140898\n",
      "valid loss:  1.3049587309360504\n",
      "epoch:  2\n",
      "train loss:  0.8236401903302412\n",
      "valid loss:  1.2620389312505722\n",
      "epoch:  3\n",
      "train loss:  0.7945658358774463\n",
      "valid loss:  1.2545394748449326\n",
      "epoch:  4\n",
      "train loss:  0.7859959124648503\n",
      "valid loss:  1.2492908388376236\n",
      "epoch:  5\n",
      "train loss:  0.7801643210354439\n",
      "valid loss:  1.2440074384212494\n",
      "epoch:  6\n",
      "train loss:  0.7750881024320581\n",
      "valid loss:  1.2385317385196686\n",
      "epoch:  7\n",
      "train loss:  0.7705187966564188\n",
      "valid loss:  1.2327175289392471\n",
      "epoch:  8\n",
      "train loss:  0.7663227794771521\n",
      "valid loss:  1.2269491255283356\n",
      "epoch:  9\n",
      "train loss:  0.7622955942054165\n",
      "valid loss:  1.219775214791298\n",
      "epoch:  10\n",
      "train loss:  0.7584984591045016\n",
      "valid loss:  1.2117848247289658\n",
      "epoch:  11\n",
      "train loss:  0.7549344225019811\n",
      "valid loss:  1.2033531963825226\n",
      "epoch:  12\n",
      "train loss:  0.7515295989323206\n",
      "valid loss:  1.193847730755806\n",
      "epoch:  13\n",
      "train loss:  0.7484054263585653\n",
      "valid loss:  1.1835970729589462\n",
      "epoch:  14\n",
      "train loss:  0.7457250227827972\n",
      "valid loss:  1.1738461405038834\n",
      "epoch:  15\n",
      "train loss:  0.7434400999626712\n",
      "valid loss:  1.1644421815872192\n",
      "epoch:  16\n",
      "train loss:  0.7416143591417547\n",
      "valid loss:  1.1561765521764755\n",
      "epoch:  17\n",
      "train loss:  0.7401840885374111\n",
      "valid loss:  1.1489305645227432\n",
      "epoch:  18\n",
      "train loss:  0.7390025703719368\n",
      "valid loss:  1.1423585563898087\n",
      "epoch:  19\n",
      "train loss:  0.7380830850823652\n",
      "valid loss:  1.1366126835346222\n",
      "epoch:  20\n",
      "train loss:  0.7373417694853921\n",
      "valid loss:  1.1316695809364319\n",
      "epoch:  21\n",
      "train loss:  0.7367028042440571\n",
      "valid loss:  1.1272717267274857\n",
      "epoch:  22\n",
      "train loss:  0.7361641467848734\n",
      "valid loss:  1.1235334873199463\n",
      "epoch:  23\n",
      "train loss:  0.7356650482258226\n",
      "valid loss:  1.1203469932079315\n",
      "epoch:  24\n",
      "train loss:  0.7352430513738907\n",
      "valid loss:  1.1175770461559296\n",
      "epoch:  25\n",
      "train loss:  0.734841415812487\n",
      "valid loss:  1.1151148229837418\n",
      "epoch:  26\n",
      "train loss:  0.7344751108724338\n",
      "valid loss:  1.1128948479890823\n",
      "epoch:  27\n",
      "train loss:  0.7341250550649275\n",
      "valid loss:  1.1108858436346054\n",
      "epoch:  28\n",
      "train loss:  0.7338168415906932\n",
      "valid loss:  1.10916006565094\n",
      "epoch:  29\n",
      "train loss:  0.7335091438303646\n",
      "valid loss:  1.1076490581035614\n"
     ]
    }
   ],
   "source": [
    "epochs = 30\n",
    "for epoch in range(epochs):\n",
    "    total_loss = 0\n",
    "    print('epoch: ', epoch)\n",
    "    model.train()\n",
    "    for i, (x, y) in enumerate(train_loader):\n",
    "        optimizer.zero_grad()\n",
    "        x = x.float().to(device)\n",
    "        y = y.float().to(device)\n",
    "        pred = model(x)\n",
    "        loss = nn.MSELoss()(pred, y)\n",
    "#         if i%20 == 0:\n",
    "#             print(loss.item())\n",
    "        total_loss += loss.item()\n",
    "        loss.backward()\n",
    "        optimizer.step()\n",
    "    print('train loss: ', total_loss/len(train_loader))\n",
    "    \n",
    "    total_valid_loss = 0\n",
    "    model.eval()\n",
    "    for i, (x, y) in enumerate(valid_loader):\n",
    "        x = x.float().to(device)\n",
    "        y = y.float().to(device)\n",
    "        with torch.no_grad():\n",
    "            pred = model(x)\n",
    "#         print(pred)\n",
    "#         print(y)\n",
    "        loss = nn.MSELoss()(pred, y)\n",
    "#         if i%20 == 0:\n",
    "#             print(loss.item())\n",
    "        total_valid_loss += loss.item()\n",
    "    print('valid loss: ', total_valid_loss/len(valid_loader))"
   ]
  },
  {
   "cell_type": "code",
   "execution_count": 294,
   "metadata": {},
   "outputs": [],
   "source": [
    "x, y = next(iter(train_loader))"
   ]
  },
  {
   "cell_type": "code",
   "execution_count": 295,
   "metadata": {},
   "outputs": [],
   "source": [
    "pred = model(x.float().to(device)).reshape(-1).detach().cpu()"
   ]
  },
  {
   "cell_type": "code",
   "execution_count": 296,
   "metadata": {},
   "outputs": [
    {
     "data": {
      "text/plain": [
       "tensor([3294., 4083., 4194., 3015., 2512.])"
      ]
     },
     "execution_count": 296,
     "metadata": {},
     "output_type": "execute_result"
    }
   ],
   "source": [
    "y*target_std+target_mean"
   ]
  },
  {
   "cell_type": "code",
   "execution_count": 297,
   "metadata": {},
   "outputs": [
    {
     "data": {
      "text/plain": [
       "tensor([3373.6968, 3441.1624, 3448.6284, 3369.6265, 3296.3057])"
      ]
     },
     "execution_count": 297,
     "metadata": {},
     "output_type": "execute_result"
    }
   ],
   "source": [
    "pred*target_std+target_mean"
   ]
  },
  {
   "cell_type": "code",
   "execution_count": 292,
   "metadata": {},
   "outputs": [],
   "source": [
    "x,y = next(iter(valid_loader))\n",
    "pred = model(x.float().to(device)).reshape(-1).detach().cpu()"
   ]
  },
  {
   "cell_type": "code",
   "execution_count": 286,
   "metadata": {},
   "outputs": [
    {
     "data": {
      "text/plain": [
       "[<matplotlib.lines.Line2D at 0x7f05a5c6ea20>]"
      ]
     },
     "execution_count": 286,
     "metadata": {},
     "output_type": "execute_result"
    },
    {
     "data": {
      "image/png": "[encoded data removed]",
      "text/plain": [
       "<Figure size 432x288 with 1 Axes>"
      ]
     },
     "metadata": {
      "needs_background": "light"
     },
     "output_type": "display_data"
    }
   ],
   "source": [
    "plt.plot(train_X1['sales'])"
   ]
  },
  {
   "cell_type": "code",
   "execution_count": 291,
   "metadata": {},
   "outputs": [
    {
     "data": {
      "text/plain": [
       "[<matplotlib.lines.Line2D at 0x7f05a5a785c0>]"
      ]
     },
     "execution_count": 291,
     "metadata": {},
     "output_type": "execute_result"
    },
    {
     "data": {
      "image/png": "[encoded data removed]",
      "text/plain": [
       "<Figure size 432x288 with 1 Axes>"
      ]
     },
     "metadata": {
      "needs_background": "light"
     },
     "output_type": "display_data"
    }
   ],
   "source": [
    "plt.plot(y*target_std+target_mean)"
   ]
  },
  {
   "cell_type": "code",
   "execution_count": 293,
   "metadata": {},
   "outputs": [
    {
     "data": {
      "text/plain": [
       "[<matplotlib.lines.Line2D at 0x7f05a5a54dd8>]"
      ]
     },
     "execution_count": 293,
     "metadata": {},
     "output_type": "execute_result"
    },
    {
     "data": {
      "image/png": "[encoded data removed]",
      "text/plain": [
       "<Figure size 432x288 with 1 Axes>"
      ]
     },
     "metadata": {
      "needs_background": "light"
     },
     "output_type": "display_data"
    }
   ],
   "source": [
    "plt.plot(pred*target_std+target_mean)"
   ]
  },
  {
   "cell_type": "markdown",
   "metadata": {},
   "source": [
    "## TS Model"
   ]
  },
  {
   "cell_type": "code",
   "execution_count": 327,
   "metadata": {},
   "outputs": [],
   "source": [
    "import pmdarima as pm"
   ]
  },
  {
   "cell_type": "code",
   "execution_count": 331,
   "metadata": {},
   "outputs": [],
   "source": [
    "total_sales = pd.read_csv('data/m5-forecasting-accuracy/sales_train_evaluation.csv').iloc[:,6:].sum()"
   ]
  },
  {
   "cell_type": "code",
   "execution_count": 338,
   "metadata": {},
   "outputs": [
    {
     "data": {
      "text/plain": [
       "[<matplotlib.lines.Line2D at 0x7f059d3672b0>]"
      ]
     },
     "execution_count": 338,
     "metadata": {},
     "output_type": "execute_result"
    },
    {
     "data": {
      "image/png": "[encoded data removed]",
      "text/plain": [
       "<Figure size 432x288 with 1 Axes>"
      ]
     },
     "metadata": {
      "needs_background": "light"
     },
     "output_type": "display_data"
    }
   ],
   "source": [
    "plt.plot(total_sales[-28:])\n",
    "plt.plot(np.array([37346.97952521, 34697.056567  , 34169.37282507, 34752.16488117,\n",
    "       41322.65187344, 50985.58638139, 52975.73610856, 43908.22184974,\n",
    "       44146.90739217, 38818.16236656, 40674.04928053, 45739.76724214,\n",
    "       53948.51689994, 46437.11313966, 44899.70881531, 39409.98352797,\n",
    "       40461.68936154, 41104.44196123, 44371.39571685, 54020.21036345,\n",
    "       56365.66285707, 42117.58159902, 38086.54974224, 37250.78425265,\n",
    "       37231.75942256, 42152.83212667, 50869.81500775, 51677.46493856]))"
   ]
  },
  {
   "cell_type": "code",
   "execution_count": null,
   "metadata": {},
   "outputs": [],
   "source": []
  },
  {
   "cell_type": "code",
   "execution_count": null,
   "metadata": {},
   "outputs": [],
   "source": []
  },
  {
   "cell_type": "code",
   "execution_count": null,
   "metadata": {},
   "outputs": [],
   "source": []
  },
  {
   "cell_type": "code",
   "execution_count": null,
   "metadata": {},
   "outputs": [],
   "source": []
  },
  {
   "cell_type": "code",
   "execution_count": null,
   "metadata": {},
   "outputs": [],
   "source": []
  },
  {
   "cell_type": "code",
   "execution_count": null,
   "metadata": {},
   "outputs": [],
   "source": []
  }
 ],
 "metadata": {
  "kernelspec": {
   "display_name": "Python 3",
   "language": "python",
   "name": "python3"
  },
  "language_info": {
   "codemirror_mode": {
    "name": "ipython",
    "version": 3
   },
   "file_extension": ".py",
   "mimetype": "text/x-python",
   "name": "python",
   "nbconvert_exporter": "python",
   "pygments_lexer": "ipython3",
   "version": "3.7.3"
  }
 },
 "nbformat": 4,
 "nbformat_minor": 4
}
