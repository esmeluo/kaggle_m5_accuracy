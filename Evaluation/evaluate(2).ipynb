{
 "cells": [
  {
   "cell_type": "code",
   "execution_count": 1,
   "metadata": {},
   "outputs": [],
   "source": [
    "import pandas as pd\n",
    "import matplotlib.pyplot as plt\n",
    "import statsmodels.api as sm\n",
    "import numpy as np\n",
    "import seaborn as sns\n",
    "from tqdm import tqdm\n",
    "import dill\n",
    "from sklearn.linear_model import LinearRegression"
   ]
  },
  {
   "cell_type": "code",
   "execution_count": 2,
   "metadata": {},
   "outputs": [],
   "source": [
    "# sell_prices = pd.read_csv('sell_prices.csv')\n",
    "# calendar = pd.read_csv('calendar.csv')\n",
    "# train = pd.read_csv('sales_train_validation.csv')\n",
    "# submission = pd.read_csv('sample_submission.csv')\n",
    "# sub1 = pd.read_csv('submission_tweedie.csv').set_index('id')\n",
    "# sub2 = pd.read_csv('submission_poisson.csv').set_index('id').loc[sub1.index]\n",
    "# sub3 = pd.read_csv('submission_custom.csv').set_index('id').loc[sub1.index]\n",
    "# sub4 = pd.read_csv('submission_mae.csv').set_index('id').loc[sub1.index]"
   ]
  },
  {
   "cell_type": "markdown",
   "metadata": {},
   "source": [
    "## LOWESS Regression"
   ]
  },
  {
   "cell_type": "code",
   "execution_count": 3,
   "metadata": {},
   "outputs": [],
   "source": [
    "BASE     = 'data/m5-simple-fe/grid_part_1.pkl'\n",
    "PRICE    = 'data/m5-simple-fe/grid_part_2.pkl'\n",
    "CALENDAR = 'data/m5-simple-fe/grid_part_3.pkl'"
   ]
  },
  {
   "cell_type": "code",
   "execution_count": 4,
   "metadata": {},
   "outputs": [],
   "source": [
    "df = pd.concat([pd.read_pickle(BASE),\n",
    "                pd.read_pickle(PRICE).iloc[:,2:]],\n",
    "#                 pd.read_pickle(CALENDAR).iloc[:,2:]],\n",
    "                axis=1)\n",
    "calendar = pd.read_pickle(CALENDAR)"
   ]
  },
  {
   "cell_type": "code",
   "execution_count": 5,
   "metadata": {},
   "outputs": [],
   "source": [
    "df = df[df['d']<=1941]\n",
    "df['revenue'] = df['sales'] * df['sell_price']\n",
    "revenue = df.groupby(['d','store_id']).agg({'revenue':'sum'}).reset_index()"
   ]
  },
  {
   "cell_type": "code",
   "execution_count": 6,
   "metadata": {},
   "outputs": [
    {
     "data": {
      "text/plain": [
       "array(['d_331', 'd_697', 'd_1062', 'd_1427', 'd_1792'], dtype=object)"
      ]
     },
     "execution_count": 6,
     "metadata": {},
     "output_type": "execute_result"
    }
   ],
   "source": [
    "calendar[(calendar['tm_d']==25)&(calendar['tm_m']==12)]['d'].unique()"
   ]
  },
  {
   "cell_type": "code",
   "execution_count": 7,
   "metadata": {},
   "outputs": [],
   "source": [
    "revenue = revenue[~revenue['d'].isin([331,697,1062,1427,1792])]"
   ]
  },
  {
   "cell_type": "code",
   "execution_count": null,
   "metadata": {},
   "outputs": [],
   "source": [
    "last_100 = {}\n",
    "for store_id in revenue['store_id'].unique():\n",
    "    plt.plot(revenue[revenue['store_id']==store_id]['d'], revenue[revenue['store_id']==store_id]['revenue'])\n",
    "    lowess = sm.nonparametric.lowess\n",
    "    z = lowess(revenue[revenue['store_id']==store_id]['revenue'], revenue[revenue['store_id']==store_id]['d'])\n",
    "    last_100[store_id] = z[-100:,1]\n",
    "#     plt.plot(z[:,1])\n",
    "#     plt.show()"
   ]
  },
  {
   "cell_type": "code",
   "execution_count": 9,
   "metadata": {},
   "outputs": [
    {
     "name": "stdout",
     "output_type": "stream",
     "text": [
      "0.9999973669314766\n",
      "0.9999535841868172\n",
      "0.9999982231475051\n",
      "0.9999995398619186\n",
      "0.99999995242443\n",
      "0.9999784455011484\n",
      "0.9999997465320806\n",
      "0.9999985295336993\n",
      "0.9999788782203721\n",
      "0.9999686841572965\n"
     ]
    }
   ],
   "source": [
    "next_28 = {}\n",
    "for store_id, last_revenue in last_100.items():\n",
    "    reg = LinearRegression().fit(np.arange(1, len(last_revenue)+1).reshape(-1,1), last_revenue)\n",
    "    next_28[store_id] = reg.predict(np.arange(len(last_revenue)+1, len(last_revenue)+1+28).reshape(-1,1))\n",
    "    print(reg.score(np.arange(1,len(last_revenue)+1).reshape(-1,1), last_revenue))"
   ]
  },
  {
   "cell_type": "code",
   "execution_count": null,
   "metadata": {},
   "outputs": [],
   "source": [
    "next_28"
   ]
  },
  {
   "cell_type": "markdown",
   "metadata": {},
   "source": [
    "## Post-Processing"
   ]
  },
  {
   "cell_type": "code",
   "execution_count": null,
   "metadata": {},
   "outputs": [],
   "source": []
  },
  {
   "cell_type": "code",
   "execution_count": 106,
   "metadata": {},
   "outputs": [],
   "source": [
    "valid = pd.read_pickle('revenue_1914_1941_valid.pkl')\n",
    "valid = valid.set_index('id').sort_index()\n",
    "all_prices = pd.read_pickle('all_prices.pkl')\n",
    "all_prices = all_prices.sort_index()\n",
    "d2d_day_2 = pd.read_pickle('revenue_1914_1941_valid_detrend_d2.pkl')\n",
    "d2d_day_2.set_index('id',inplace=True)\n",
    "d2d_day_2 = d2d_day_2.sort_index()\n",
    "trends = pd.read_pickle('data/m5-detrend/trend_sales_evaluation.pkl')\n",
    "minus_trend = pd.read_pickle('data/m5-detrend/sales_minus_trend_evaluation.pkl')\n",
    "train_df = pd.read_csv('data/m5-forecasting-accuracy/sales_train_evaluation.csv')"
   ]
  },
  {
   "cell_type": "code",
   "execution_count": 99,
   "metadata": {},
   "outputs": [],
   "source": [
    "bottom_lines = minus_trend.iloc[:,1:].min(1).values\n",
    "mean = train_df.iloc[:,6:].mean(1).values"
   ]
  },
  {
   "cell_type": "code",
   "execution_count": 100,
   "metadata": {},
   "outputs": [
    {
     "data": {
      "text/plain": [
       "array([ 0.        ,  0.        ,  0.        , ..., -1.06127501,\n",
       "        0.        , -2.04588799])"
      ]
     },
     "execution_count": 100,
     "metadata": {},
     "output_type": "execute_result"
    }
   ],
   "source": [
    "bottom_lines"
   ]
  },
  {
   "cell_type": "code",
   "execution_count": 114,
   "metadata": {},
   "outputs": [
    {
     "data": {
      "text/plain": [
       "array([0.32612056, 0.25759918, 0.15919629, ..., 0.89335394, 0.38073158,\n",
       "       0.70273055])"
      ]
     },
     "execution_count": 114,
     "metadata": {},
     "output_type": "execute_result"
    }
   ],
   "source": [
    "mean"
   ]
  },
  {
   "cell_type": "code",
   "execution_count": 102,
   "metadata": {},
   "outputs": [],
   "source": [
    "trend = trends[:,-28:][:,1]"
   ]
  },
  {
   "cell_type": "code",
   "execution_count": 15,
   "metadata": {},
   "outputs": [],
   "source": [
    "# past_total_revenue = revenue.groupby('d').agg({'revenue':'sum'}).values.reshape(-1)\n",
    "# pred_total_revenue = valid.sum().values"
   ]
  },
  {
   "cell_type": "code",
   "execution_count": 16,
   "metadata": {},
   "outputs": [],
   "source": [
    "# total_revenue_series = np.concatenate([past_total_revenue,pred_total_revenue])"
   ]
  },
  {
   "cell_type": "code",
   "execution_count": 17,
   "metadata": {},
   "outputs": [],
   "source": [
    "# plt.plot(total_revenue_series)"
   ]
  },
  {
   "cell_type": "code",
   "execution_count": 18,
   "metadata": {},
   "outputs": [],
   "source": [
    "# lowess = sm.nonparametric.lowess\n",
    "# z = lowess(total_revenue_series, np.arange(1, len(total_revenue_series)+1))"
   ]
  },
  {
   "cell_type": "code",
   "execution_count": 19,
   "metadata": {},
   "outputs": [],
   "source": [
    "# plt.plot(total_revenue_series)\n",
    "# plt.plot(z[:,1])"
   ]
  },
  {
   "cell_type": "code",
   "execution_count": 107,
   "metadata": {},
   "outputs": [],
   "source": [
    "valid['F2']=d2d_day_2['F2']"
   ]
  },
  {
   "cell_type": "code",
   "execution_count": 108,
   "metadata": {},
   "outputs": [],
   "source": [
    "valid = valid/all_prices.iloc[:,1913:1941].values"
   ]
  },
  {
   "cell_type": "code",
   "execution_count": 109,
   "metadata": {},
   "outputs": [
    {
     "data": {
      "text/plain": [
       "array([37346.97952521, 63750.29614213, 34169.37282507, 34752.16488117,\n",
       "       41322.65187344, 50985.58638139, 52975.73610856, 43908.22184974,\n",
       "       44146.90739217, 38818.16236656, 40674.04928053, 45739.76724214,\n",
       "       53948.51689994, 46437.11313966, 44899.70881531, 39409.98352797,\n",
       "       40461.68936154, 41104.44196123, 44371.39571685, 54020.21036345,\n",
       "       56365.66285707, 42117.58159902, 38086.54974224, 37250.78425265,\n",
       "       37231.75942256, 42152.83212667, 50869.81500775, 51677.46493856])"
      ]
     },
     "execution_count": 109,
     "metadata": {},
     "output_type": "execute_result"
    }
   ],
   "source": [
    "valid.sum().values"
   ]
  },
  {
   "cell_type": "code",
   "execution_count": 110,
   "metadata": {},
   "outputs": [],
   "source": [
    "valid = valid.loc[train_df['id']]"
   ]
  },
  {
   "cell_type": "code",
   "execution_count": 111,
   "metadata": {},
   "outputs": [],
   "source": [
    "valid['F2'] = valid['F2']-mean+bottom_lines+trend"
   ]
  },
  {
   "cell_type": "code",
   "execution_count": 112,
   "metadata": {},
   "outputs": [
    {
     "data": {
      "text/plain": [
       "array([37346.97952521, 19069.83288693, 34169.37282507, 34752.16488117,\n",
       "       41322.65187344, 50985.58638139, 52975.73610856, 43908.22184974,\n",
       "       44146.90739217, 38818.16236656, 40674.04928053, 45739.76724214,\n",
       "       53948.51689994, 46437.11313966, 44899.7088153 , 39409.98352797,\n",
       "       40461.68936154, 41104.44196123, 44371.39571685, 54020.21036345,\n",
       "       56365.66285707, 42117.58159902, 38086.54974224, 37250.78425265,\n",
       "       37231.75942256, 42152.83212667, 50869.81500775, 51677.46493856])"
      ]
     },
     "execution_count": 112,
     "metadata": {},
     "output_type": "execute_result"
    }
   ],
   "source": [
    "valid.sum().values"
   ]
  },
  {
   "cell_type": "code",
   "execution_count": null,
   "metadata": {},
   "outputs": [],
   "source": []
  },
  {
   "cell_type": "code",
   "execution_count": null,
   "metadata": {},
   "outputs": [],
   "source": []
  },
  {
   "cell_type": "code",
   "execution_count": 48,
   "metadata": {},
   "outputs": [],
   "source": [
    "sales = df.groupby('d').agg({'sales':'sum'})"
   ]
  },
  {
   "cell_type": "code",
   "execution_count": null,
   "metadata": {},
   "outputs": [],
   "source": [
    "valid.sum()"
   ]
  },
  {
   "cell_type": "markdown",
   "metadata": {},
   "source": [
    "### Evaluator"
   ]
  },
  {
   "cell_type": "code",
   "execution_count": 94,
   "metadata": {
    "jupyter": {
     "source_hidden": true
    }
   },
   "outputs": [],
   "source": [
    "from typing import Union\n",
    "\n",
    "import numpy as np\n",
    "import pandas as pd\n",
    "from tqdm import tqdm as tqdm\n",
    "\n",
    "class WRMSSEEvaluator(object):\n",
    "    \n",
    "    group_ids = ( 'all_id', 'state_id', 'store_id', 'cat_id', 'dept_id', 'item_id',\n",
    "        ['state_id', 'cat_id'],  ['state_id', 'dept_id'], ['store_id', 'cat_id'],\n",
    "        ['store_id', 'dept_id'], ['item_id', 'state_id'], ['item_id', 'store_id'])\n",
    "\n",
    "    def __init__(self, \n",
    "                 train_df: pd.DataFrame, \n",
    "                 valid_df: pd.DataFrame, \n",
    "                 calendar: pd.DataFrame, \n",
    "                 prices: pd.DataFrame):\n",
    "        '''\n",
    "        intialize and calculate weights\n",
    "        '''\n",
    "        self.calendar = calendar\n",
    "        self.prices = prices\n",
    "        self.train_df = train_df\n",
    "        self.valid_df = valid_df\n",
    "        self.train_target_columns = [i for i in self.train_df.columns if i.startswith('d_')]\n",
    "        self.weight_columns = self.train_df.iloc[:, -28:].columns.tolist()\n",
    "\n",
    "        self.train_df['all_id'] = \"all\"\n",
    "\n",
    "        self.id_columns = [i for i in self.train_df.columns if not i.startswith('d_')]\n",
    "        self.valid_target_columns = [i for i in self.valid_df.columns if i.startswith('d_')]\n",
    "\n",
    "        if not all([c in self.valid_df.columns for c in self.id_columns]):\n",
    "            self.valid_df = pd.concat([self.train_df[self.id_columns], self.valid_df],\n",
    "                                      axis=1, \n",
    "                                      sort=False)\n",
    "        self.train_series = self.trans_30490_to_42840(self.train_df, \n",
    "                                                      self.train_target_columns, \n",
    "                                                      self.group_ids)\n",
    "        self.valid_series = self.trans_30490_to_42840(self.valid_df, \n",
    "                                                      self.valid_target_columns, \n",
    "                                                      self.group_ids)\n",
    "        self.weights = self.get_weight_df()\n",
    "        self.scale = self.get_scale()\n",
    "        self.train_series = None\n",
    "        self.train_df = None\n",
    "        self.prices = None\n",
    "        self.calendar = None\n",
    "\n",
    "    def get_scale(self):\n",
    "        '''\n",
    "        scaling factor for each series ignoring starting zeros\n",
    "        '''\n",
    "        scales = []\n",
    "        for i in tqdm(range(len(self.train_series))):\n",
    "            series = self.train_series.iloc[i].values\n",
    "            series = series[np.argmax(series!=0):]\n",
    "            scale = ((series[1:] - series[:-1]) ** 2).mean()\n",
    "            scales.append(scale)\n",
    "        return np.array(scales)\n",
    "    \n",
    "    def get_name(self, i):\n",
    "        '''\n",
    "        convert a str or list of strings to unique string \n",
    "        used for naming each of 42840 series\n",
    "        '''\n",
    "        if type(i) == str or type(i) == int:\n",
    "            return str(i)\n",
    "        else:\n",
    "            return \"--\".join(i)\n",
    "    \n",
    "    def get_weight_df(self) -> pd.DataFrame:\n",
    "        \"\"\"\n",
    "        returns weights for each of 42840 series in a dataFrame\n",
    "        \"\"\"\n",
    "        day_to_week = self.calendar.set_index(\"d\")[\"wm_yr_wk\"].to_dict()\n",
    "        weight_df = self.train_df[[\"item_id\", \"store_id\"] + self.weight_columns].set_index(\n",
    "            [\"item_id\", \"store_id\"]\n",
    "        )\n",
    "        weight_df = (\n",
    "            weight_df.stack().reset_index().rename(columns={\"level_2\": \"d\", 0: \"value\"})\n",
    "        )\n",
    "        weight_df[\"wm_yr_wk\"] = weight_df[\"d\"].map(day_to_week)\n",
    "        weight_df = weight_df.merge(\n",
    "            self.prices, how=\"left\", on=[\"item_id\", \"store_id\", \"wm_yr_wk\"]\n",
    "        )\n",
    "        weight_df[\"value\"] = weight_df[\"value\"] * weight_df[\"sell_price\"]\n",
    "        weight_df = weight_df.set_index([\"item_id\", \"store_id\", \"d\"]).unstack(level=2)[\n",
    "            \"value\"\n",
    "        ]\n",
    "        weight_df = weight_df.loc[\n",
    "            zip(self.train_df.item_id, self.train_df.store_id), :\n",
    "        ].reset_index(drop=True)\n",
    "        weight_df = pd.concat(\n",
    "            [self.train_df[self.id_columns], weight_df], axis=1, sort=False\n",
    "        )\n",
    "        weights_map = {}\n",
    "        for i, group_id in enumerate(tqdm(self.group_ids, leave=False)):\n",
    "            lv_weight = weight_df.groupby(group_id)[self.weight_columns].sum().sum(axis=1)\n",
    "            lv_weight = lv_weight / lv_weight.sum()\n",
    "            for i in range(len(lv_weight)):\n",
    "                weights_map[self.get_name(lv_weight.index[i])] = np.array(\n",
    "                    [lv_weight.iloc[i]]\n",
    "                )\n",
    "        weights = pd.DataFrame(weights_map).T / len(self.group_ids)\n",
    "\n",
    "        return weights\n",
    "\n",
    "    def trans_30490_to_42840(self, df, cols, group_ids, dis=False):\n",
    "        '''\n",
    "        transform 30490 sries to all 42840 series\n",
    "        '''\n",
    "        series_map = {}\n",
    "        for i, group_id in enumerate(tqdm(self.group_ids, leave=False, disable=dis)):\n",
    "            tr = df.groupby(group_id)[cols].sum()\n",
    "            for i in range(len(tr)):\n",
    "                series_map[self.get_name(tr.index[i])] = tr.iloc[i].values\n",
    "        return pd.DataFrame(series_map).T\n",
    "    \n",
    "    def get_rmsse(self, valid_preds) -> pd.Series:\n",
    "        '''\n",
    "        returns rmsse scores for all 42840 series\n",
    "        '''\n",
    "        score = ((self.valid_series - valid_preds) ** 2).mean(axis=1)\n",
    "        rmsse = (score / self.scale).map(np.sqrt)\n",
    "        return rmsse\n",
    "\n",
    "    def score(self, valid_preds: Union[pd.DataFrame, np.ndarray]) -> float:\n",
    "        assert self.valid_df[self.valid_target_columns].shape == valid_preds.shape\n",
    "\n",
    "        if isinstance(valid_preds, np.ndarray):\n",
    "            valid_preds = pd.DataFrame(valid_preds, columns=self.valid_target_columns)\n",
    "\n",
    "        valid_preds = pd.concat([self.valid_df[self.id_columns], valid_preds],\n",
    "                                axis=1, \n",
    "                                sort=False)\n",
    "        valid_preds = self.trans_30490_to_42840(valid_preds, \n",
    "                                                self.valid_target_columns, \n",
    "                                                self.group_ids, \n",
    "                                                True)\n",
    "        self.rmsse = self.get_rmsse(valid_preds)\n",
    "        self.contributors = pd.concat([self.weights, self.rmsse], \n",
    "                                      axis=1, \n",
    "                                      sort=False).prod(axis=1)\n",
    "        return np.sum(self.contributors)"
   ]
  },
  {
   "cell_type": "code",
   "execution_count": 95,
   "metadata": {},
   "outputs": [
    {
     "name": "stderr",
     "output_type": "stream",
     "text": [
      "100%|██████████| 42840/42840 [00:06<00:00, 6504.09it/s]\n"
     ]
    }
   ],
   "source": [
    "train_df = pd.read_csv('data/m5-forecasting-accuracy/sales_train_evaluation.csv')\n",
    "calendar = pd.read_csv('data/m5-forecasting-accuracy/calendar.csv')\n",
    "prices = pd.read_csv('data/m5-forecasting-accuracy/sell_prices.csv')\n",
    "\n",
    "train_fold_df = train_df.iloc[:, :-28]\n",
    "valid_fold_df = train_df.iloc[:, -28:].copy()\n",
    "\n",
    "e = WRMSSEEvaluator(train_fold_df, valid_fold_df, calendar, prices)"
   ]
  },
  {
   "cell_type": "code",
   "execution_count": 96,
   "metadata": {},
   "outputs": [
    {
     "data": {
      "text/plain": [
       "0.5620809194542171"
      ]
     },
     "execution_count": 96,
     "metadata": {},
     "output_type": "execute_result"
    }
   ],
   "source": [
    "valid_preds = valid.loc[train_fold_df['id']].values\n",
    "e.score(valid_preds)"
   ]
  },
  {
   "cell_type": "code",
   "execution_count": 61,
   "metadata": {},
   "outputs": [],
   "source": [
    "sample_submission = pd.read_csv('data/m5-forecasting-accuracy/sample_submission.csv')"
   ]
  },
  {
   "cell_type": "code",
   "execution_count": 71,
   "metadata": {},
   "outputs": [],
   "source": [
    "sample_submission.iloc[:30490,1:] = valid_preds"
   ]
  },
  {
   "cell_type": "code",
   "execution_count": 73,
   "metadata": {},
   "outputs": [],
   "source": [
    "sample_submission.to_csv('evaluator_submission.csv',index=False)"
   ]
  },
  {
   "cell_type": "code",
   "execution_count": 74,
   "metadata": {},
   "outputs": [
    {
     "name": "stdout",
     "output_type": "stream",
     "text": [
      "100%|██████████████████████████████████████| 20.5M/20.5M [00:01<00:00, 10.8MB/s]\n",
      "Successfully submitted to M5 Forecasting - Accuracy"
     ]
    }
   ],
   "source": [
    "!kaggle competitions submit -c m5-forecasting-accuracy -f evaluator_submission.csv -m \"evaluator\""
   ]
  },
  {
   "cell_type": "code",
   "execution_count": null,
   "metadata": {},
   "outputs": [],
   "source": []
  },
  {
   "cell_type": "code",
   "execution_count": null,
   "metadata": {},
   "outputs": [],
   "source": [
    "# plt.plot(train)\n",
    "for i in range(6):\n",
    "    plt.plot(sub1.iloc[i,1:].values)"
   ]
  },
  {
   "cell_type": "code",
   "execution_count": null,
   "metadata": {},
   "outputs": [],
   "source": [
    "# plt.plot(train)\n",
    "for i in range(6):\n",
    "    plt.plot(sub2.iloc[i,1:].values)"
   ]
  },
  {
   "cell_type": "code",
   "execution_count": null,
   "metadata": {},
   "outputs": [],
   "source": [
    "# plt.plot(train)\n",
    "for i in range(6):\n",
    "    plt.plot(sub3.iloc[i,1:].values)"
   ]
  },
  {
   "cell_type": "code",
   "execution_count": null,
   "metadata": {},
   "outputs": [],
   "source": [
    "# plt.plot(train)\n",
    "for i in range(6):\n",
    "    plt.plot(sub4.iloc[i,1:].values)"
   ]
  },
  {
   "cell_type": "code",
   "execution_count": null,
   "metadata": {},
   "outputs": [],
   "source": [
    "for i in range(6):\n",
    "    plt.plot(train.iloc[i, 1900:].values)"
   ]
  },
  {
   "cell_type": "code",
   "execution_count": 30,
   "metadata": {},
   "outputs": [
    {
     "name": "stderr",
     "output_type": "stream",
     "text": [
      "100%|██████████| 30490/30490 [00:45<00:00, 667.56it/s]\n"
     ]
    }
   ],
   "source": [
    "# zero_dict = {}\n",
    "# for i in tqdm(range(len(train))):\n",
    "#     ori_sales = train.iloc[i,6:].values\n",
    "#     sales = np.trim_zeros(ori_sales, 'f')\n",
    "# #     zero_percent = 1-len(sales.nonzero()[0])/len(sales)\n",
    "#     id = '_'.join(train.iloc[i,0].split('_')[:-1])\n",
    "#     zero_dict[id]=sales"
   ]
  },
  {
   "cell_type": "code",
   "execution_count": 3,
   "metadata": {},
   "outputs": [],
   "source": [
    "def moving_average(a, n=28) :\n",
    "    ret = np.cumsum(a, dtype=float)\n",
    "    ret[n:] = ret[n:] - ret[:-n]\n",
    "    return ret[n - 1:] / n"
   ]
  },
  {
   "cell_type": "code",
   "execution_count": 245,
   "metadata": {},
   "outputs": [
    {
     "name": "stderr",
     "output_type": "stream",
     "text": [
      "100%|██████████| 30490/30490 [00:48<00:00, 629.80it/s]\n"
     ]
    }
   ],
   "source": [
    "moving_avg_dict = {}\n",
    "for i in tqdm(range(len(train))):\n",
    "    ori_sales = train.iloc[i,6:].values\n",
    "    sales = np.trim_zeros(ori_sales, 'f')\n",
    "#     zero_percent = 1-len(sales.nonzero()[0])/len(sales)\n",
    "    id = '_'.join(train.iloc[i,0].split('_')[:-1])\n",
    "    moving_avg_dict[id]=moving_average(sales)"
   ]
  },
  {
   "cell_type": "code",
   "execution_count": 270,
   "metadata": {},
   "outputs": [
    {
     "data": {
      "text/plain": [
       "[<matplotlib.lines.Line2D at 0x7f6a515e26a0>]"
      ]
     },
     "execution_count": 270,
     "metadata": {},
     "output_type": "execute_result"
    },
    {
     "data": {
      "image/png": "[encoded data removed]",
      "text/plain": [
       "<Figure size 432x288 with 1 Axes>"
      ]
     },
     "metadata": {
      "needs_background": "light"
     },
     "output_type": "display_data"
    }
   ],
   "source": [
    "plt.plot(train.iloc[:,6:].sum().values)"
   ]
  },
  {
   "cell_type": "code",
   "execution_count": null,
   "metadata": {},
   "outputs": [],
   "source": []
  },
  {
   "cell_type": "code",
   "execution_count": null,
   "metadata": {},
   "outputs": [],
   "source": []
  },
  {
   "cell_type": "code",
   "execution_count": null,
   "metadata": {},
   "outputs": [],
   "source": []
  },
  {
   "cell_type": "code",
   "execution_count": 4,
   "metadata": {},
   "outputs": [
    {
     "name": "stderr",
     "output_type": "stream",
     "text": [
      "100%|██████████| 30490/30490 [00:31<00:00, 979.81it/s] \n"
     ]
    }
   ],
   "source": [
    "moving_avg_all_dict = {}\n",
    "for i in tqdm(range(len(train))):\n",
    "    ori_sales = train.iloc[i,6:].values\n",
    "#     sales = np.trim_zeros(ori_sales, 'f')\n",
    "#     zero_percent = 1-len(sales.nonzero()[0])/len(sales)\n",
    "    id = '_'.join(train.iloc[i,0].split('_')[:-1])\n",
    "    moving_avg_all_dict[id]=moving_average(ori_sales)"
   ]
  },
  {
   "cell_type": "code",
   "execution_count": null,
   "metadata": {},
   "outputs": [],
   "source": []
  },
  {
   "cell_type": "code",
   "execution_count": null,
   "metadata": {},
   "outputs": [],
   "source": []
  },
  {
   "cell_type": "code",
   "execution_count": 247,
   "metadata": {},
   "outputs": [
    {
     "data": {
      "text/plain": [
       "[<matplotlib.lines.Line2D at 0x7f6a404bd400>]"
      ]
     },
     "execution_count": 247,
     "metadata": {},
     "output_type": "execute_result"
    },
    {
     "data": {
      "image/png": "[encoded data removed]",
      "text/plain": [
       "<Figure size 432x288 with 1 Axes>"
      ]
     },
     "metadata": {
      "needs_background": "light"
     },
     "output_type": "display_data"
    }
   ],
   "source": [
    "plt.plot(list(moving_avg_dict.values())[0])"
   ]
  },
  {
   "cell_type": "code",
   "execution_count": 248,
   "metadata": {},
   "outputs": [],
   "source": [
    "moving_avg = list(moving_avg_dict.values())"
   ]
  },
  {
   "cell_type": "code",
   "execution_count": 263,
   "metadata": {},
   "outputs": [],
   "source": [
    "moving_avg_include = [i for i in moving_avg if len(i)>1500]"
   ]
  },
  {
   "cell_type": "code",
   "execution_count": 264,
   "metadata": {},
   "outputs": [
    {
     "data": {
      "text/plain": [
       "17596"
      ]
     },
     "execution_count": 264,
     "metadata": {},
     "output_type": "execute_result"
    }
   ],
   "source": [
    "len(moving_avg_include)"
   ]
  },
  {
   "cell_type": "code",
   "execution_count": 265,
   "metadata": {},
   "outputs": [],
   "source": [
    "moving_avg_for_trend = [i[len(i)-1500:] for i in moving_avg_include]"
   ]
  },
  {
   "cell_type": "code",
   "execution_count": 266,
   "metadata": {},
   "outputs": [],
   "source": [
    "sum_moving_avg = np.sum(moving_avg_for_trend,axis=0)"
   ]
  },
  {
   "cell_type": "code",
   "execution_count": null,
   "metadata": {},
   "outputs": [],
   "source": [
    "plt.plot(sum_moving_avg)"
   ]
  },
  {
   "cell_type": "code",
   "execution_count": null,
   "metadata": {},
   "outputs": [],
   "source": []
  },
  {
   "cell_type": "code",
   "execution_count": 5,
   "metadata": {},
   "outputs": [],
   "source": [
    "sum_moving_avg_all = np.sum(list(moving_avg_all_dict.values()),axis=0)"
   ]
  },
  {
   "cell_type": "code",
   "execution_count": 6,
   "metadata": {},
   "outputs": [
    {
     "data": {
      "text/plain": [
       "[<matplotlib.lines.Line2D at 0x7f6c0fbfb5c0>]"
      ]
     },
     "execution_count": 6,
     "metadata": {},
     "output_type": "execute_result"
    },
    {
     "data": {
      "image/png": "[encoded data removed]",
      "text/plain": [
       "<Figure size 432x288 with 1 Axes>"
      ]
     },
     "metadata": {
      "needs_background": "light"
     },
     "output_type": "display_data"
    }
   ],
   "source": [
    "plt.plot(sum_moving_avg_all)"
   ]
  },
  {
   "cell_type": "code",
   "execution_count": 7,
   "metadata": {},
   "outputs": [],
   "source": [
    "from statsmodels.tsa.arima_process import ArmaProcess\n",
    "from statsmodels.tsa.arima_model import ARMA, ARIMA\n",
    "from statsmodels.tsa.stattools import arma_order_select_ic\n",
    "from statsmodels.graphics.tsaplots import plot_acf,plot_pacf\n",
    "from statsmodels.tsa.holtwinters import ExponentialSmoothing\n",
    "import statsmodels.api as sm\n",
    "import matplotlib.pyplot as plt\n",
    "import numpy as np\n",
    "import pandas as pd\n",
    "import pmdarima as pm"
   ]
  },
  {
   "cell_type": "code",
   "execution_count": 50,
   "metadata": {},
   "outputs": [
    {
     "name": "stderr",
     "output_type": "stream",
     "text": [
      "/home/chens/anaconda3/envs/schen/lib/python3.7/site-packages/statsmodels/tsa/holtwinters.py:744: ConvergenceWarning: Optimization failed to converge. Check mle_retvals.\n",
      "  ConvergenceWarning)\n"
     ]
    }
   ],
   "source": [
    "model = ExponentialSmoothing(sum_moving_avg_all[:], trend=\"add\", seasonal=\"add\", seasonal_periods=365,damped=True)\n",
    "fit = model.fit()"
   ]
  },
  {
   "cell_type": "code",
   "execution_count": 51,
   "metadata": {},
   "outputs": [],
   "source": [
    "pred = fit.forecast(28)"
   ]
  },
  {
   "cell_type": "code",
   "execution_count": 52,
   "metadata": {},
   "outputs": [
    {
     "data": {
      "text/plain": [
       "[<matplotlib.lines.Line2D at 0x7f6be2fd8c50>]"
      ]
     },
     "execution_count": 52,
     "metadata": {},
     "output_type": "execute_result"
    },
    {
     "data": {
      "image/png": "[encoded data removed]",
      "text/plain": [
       "<Figure size 432x288 with 1 Axes>"
      ]
     },
     "metadata": {
      "needs_background": "light"
     },
     "output_type": "display_data"
    }
   ],
   "source": [
    "plt.plot(np.concatenate([sum_moving_avg_all, pred]))"
   ]
  },
  {
   "cell_type": "code",
   "execution_count": 53,
   "metadata": {},
   "outputs": [
    {
     "data": {
      "text/plain": [
       "array([42126.37687614, 41999.65491802, 41892.36377429, 41642.88763631,\n",
       "       41447.27084761, 41290.9915936 , 41297.53601777, 41415.87506342,\n",
       "       41273.47101623, 41144.08780017, 41084.86687702, 40988.45453965,\n",
       "       40960.93591374, 40937.25747208, 40718.18026875, 40764.79070308,\n",
       "       40793.25909588, 40733.90326422, 40757.22180992, 40898.22985176,\n",
       "       40902.37098563, 40824.48398606, 40870.78371094, 40862.83739177,\n",
       "       40833.06553569, 40789.76384456, 40794.52221954, 40729.49700458])"
      ]
     },
     "execution_count": 53,
     "metadata": {},
     "output_type": "execute_result"
    }
   ],
   "source": [
    "pred"
   ]
  },
  {
   "cell_type": "code",
   "execution_count": null,
   "metadata": {},
   "outputs": [
    {
     "name": "stdout",
     "output_type": "stream",
     "text": [
      "Performing stepwise search to minimize aic\n"
     ]
    }
   ],
   "source": [
    "model = pm.auto_arima(sum_moving_avg_all, start_p=0, start_q=0,\n",
    "                           max_p=5, max_q=5, m=365,\n",
    "                           start_P=0, seasonal=True,\n",
    "                           d=1, D=1, trace=True,  \n",
    "                           error_action='ignore',  \n",
    "                           suppress_warnings=True, \n",
    "                           stepwise=True)\n",
    "print(model.summary())"
   ]
  },
  {
   "cell_type": "code",
   "execution_count": null,
   "metadata": {},
   "outputs": [],
   "source": []
  },
  {
   "cell_type": "code",
   "execution_count": 54,
   "metadata": {},
   "outputs": [
    {
     "data": {
      "text/plain": [
       "43528.543291164846"
      ]
     },
     "execution_count": 54,
     "metadata": {},
     "output_type": "execute_result"
    }
   ],
   "source": [
    "sub1.sum().mean()"
   ]
  },
  {
   "cell_type": "code",
   "execution_count": 55,
   "metadata": {},
   "outputs": [
    {
     "data": {
      "text/plain": [
       "0.9356963023581591"
      ]
     },
     "execution_count": 55,
     "metadata": {},
     "output_type": "execute_result"
    }
   ],
   "source": [
    "40729.49700458/43528.543291164846"
   ]
  },
  {
   "cell_type": "code",
   "execution_count": null,
   "metadata": {},
   "outputs": [],
   "source": []
  },
  {
   "cell_type": "code",
   "execution_count": 56,
   "metadata": {},
   "outputs": [],
   "source": [
    "my_sub = (sub1*0.9356963023581591)"
   ]
  },
  {
   "cell_type": "code",
   "execution_count": null,
   "metadata": {},
   "outputs": [],
   "source": [
    "for i in tqdm(range(len(train))):\n",
    "    train.iloc[i,0]"
   ]
  },
  {
   "cell_type": "code",
   "execution_count": 5,
   "metadata": {},
   "outputs": [],
   "source": [
    "sub1['min_id'] = sub1.index.str.split('_')"
   ]
  },
  {
   "cell_type": "code",
   "execution_count": 6,
   "metadata": {},
   "outputs": [
    {
     "name": "stderr",
     "output_type": "stream",
     "text": [
      "100%|██████████| 60980/60980 [02:35<00:00, 392.02it/s]\n"
     ]
    }
   ],
   "source": [
    "for i in tqdm(range(len(sub1))):\n",
    "    item_id = sub1.iloc[i,-1]\n",
    "    sub1.iloc[i,-1] = '_'.join(item_id[:-1])"
   ]
  },
  {
   "cell_type": "code",
   "execution_count": 7,
   "metadata": {},
   "outputs": [],
   "source": [
    "# sub4['min_id'] = sub1.iloc[:,-1]"
   ]
  },
  {
   "cell_type": "code",
   "execution_count": 8,
   "metadata": {},
   "outputs": [],
   "source": [
    "# dill.dump(zero_dict,open('./zero_dict.pkl','wb'))\n",
    "zero_dict = dill.load(open('./zero_dict.pkl','rb'))"
   ]
  },
  {
   "cell_type": "code",
   "execution_count": 104,
   "metadata": {},
   "outputs": [],
   "source": [
    "my_sub = sub1.drop(columns=['min_id'])"
   ]
  },
  {
   "cell_type": "code",
   "execution_count": 105,
   "metadata": {},
   "outputs": [
    {
     "name": "stderr",
     "output_type": "stream",
     "text": [
      "100%|██████████| 60980/60980 [00:07<00:00, 7839.90it/s]\n"
     ]
    }
   ],
   "source": [
    "for i in tqdm(range(len(sub1))):\n",
    "    item_id = sub1.iloc[i,-1]\n",
    "    preds = my_sub.values[i].copy()\n",
    "    preds_mae = np.clip(sub4.values[i],0,None)\n",
    "    percentile = int(zero_dict[item_id][0]*50)\n",
    "    threshold = np.percentile(preds,percentile)\n",
    "    if len(preds[preds<threshold])>0:\n",
    "#         print(len(preds[preds<threshold]))\n",
    "        preds[preds<threshold]=preds_mae[preds<threshold]\n",
    "#         print(preds.mean()/my_sub.values[i].mean())\n",
    "        my_sub.values[i] *= (preds.mean()/my_sub.values[i].mean())\n",
    "#     my_sub.iloc[i] = preds\n",
    "#     break"
   ]
  },
  {
   "cell_type": "code",
   "execution_count": 57,
   "metadata": {},
   "outputs": [],
   "source": [
    "my_sub.reset_index().to_csv('submission.csv',index=False)"
   ]
  },
  {
   "cell_type": "code",
   "execution_count": 58,
   "metadata": {},
   "outputs": [
    {
     "name": "stdout",
     "output_type": "stream",
     "text": [
      "100%|██████████████████████████████████████| 20.5M/20.5M [00:03<00:00, 6.74MB/s]\n",
      "Successfully submitted to M5 Forecasting - Accuracy"
     ]
    }
   ],
   "source": [
    "!kaggle competitions submit -c m5-forecasting-accuracy -f submission.csv -m \"50% mean\""
   ]
  },
  {
   "cell_type": "code",
   "execution_count": null,
   "metadata": {},
   "outputs": [],
   "source": [
    "my_sub.reset_index()"
   ]
  },
  {
   "cell_type": "code",
   "execution_count": 31,
   "metadata": {},
   "outputs": [],
   "source": [
    "i=8"
   ]
  },
  {
   "cell_type": "code",
   "execution_count": 32,
   "metadata": {},
   "outputs": [
    {
     "data": {
      "text/plain": [
       "[<matplotlib.lines.Line2D at 0x7f3f96f1db38>]"
      ]
     },
     "execution_count": 32,
     "metadata": {},
     "output_type": "execute_result"
    },
    {
     "data": {
      "image/png": "[encoded data removed]",
      "text/plain": [
       "<Figure size 432x288 with 1 Axes>"
      ]
     },
     "metadata": {
      "needs_background": "light"
     },
     "output_type": "display_data"
    }
   ],
   "source": [
    "plt.plot(sub1.iloc[i,1:].values)\n",
    "# plt.plot(sub2.iloc[i,1:].values)\n",
    "# plt.plot(sub3.iloc[i,1:].values)\n",
    "plt.plot(sub4.iloc[i,1:].values)"
   ]
  },
  {
   "cell_type": "code",
   "execution_count": 33,
   "metadata": {},
   "outputs": [
    {
     "data": {
      "text/plain": [
       "<matplotlib.axes._subplots.AxesSubplot at 0x7f3f96622b38>"
      ]
     },
     "execution_count": 33,
     "metadata": {},
     "output_type": "execute_result"
    },
    {
     "data": {
      "image/png": "[encoded data removed]",
      "text/plain": [
       "<Figure size 432x288 with 1 Axes>"
      ]
     },
     "metadata": {
      "needs_background": "light"
     },
     "output_type": "display_data"
    }
   ],
   "source": [
    "sns.distplot(sub1.iloc[i, 1:].values)"
   ]
  },
  {
   "cell_type": "code",
   "execution_count": 37,
   "metadata": {},
   "outputs": [
    {
     "data": {
      "text/plain": [
       "array([ 0.18918612,  0.01896877,  0.01929055,  0.01890003,  0.18893385,\n",
       "        0.20594392,  0.01287178,  0.00923716,  0.00608071,  0.00876671,\n",
       "        0.00660183,  0.06452668,  0.03599041,  0.00573799,  0.00790749,\n",
       "        0.00706318,  0.00715001,  0.00692297,  0.02689455,  0.02739907,\n",
       "        0.00631432,  0.00472232,  0.00320752,  0.00103662, -0.00047203,\n",
       "        0.02713977,  0.02633217])"
      ]
     },
     "execution_count": 37,
     "metadata": {},
     "output_type": "execute_result"
    }
   ],
   "source": [
    "sub4.iloc[i, 1:].values"
   ]
  },
  {
   "cell_type": "code",
   "execution_count": 34,
   "metadata": {},
   "outputs": [
    {
     "data": {
      "text/plain": [
       "<matplotlib.axes._subplots.AxesSubplot at 0x7f3f96592748>"
      ]
     },
     "execution_count": 34,
     "metadata": {},
     "output_type": "execute_result"
    },
    {
     "data": {
      "image/png": "[encoded data removed]",
      "text/plain": [
       "<Figure size 432x288 with 1 Axes>"
      ]
     },
     "metadata": {
      "needs_background": "light"
     },
     "output_type": "display_data"
    }
   ],
   "source": [
    "sns.distplot(sub4.iloc[i, 1:].values)"
   ]
  },
  {
   "cell_type": "code",
   "execution_count": 35,
   "metadata": {},
   "outputs": [
    {
     "data": {
      "text/plain": [
       "0.5399895452169368"
      ]
     },
     "execution_count": 35,
     "metadata": {},
     "output_type": "execute_result"
    }
   ],
   "source": [
    "zero_dict['_'.join(sub1.index[i].split('_')[:-1])][0]"
   ]
  },
  {
   "cell_type": "code",
   "execution_count": 36,
   "metadata": {},
   "outputs": [
    {
     "data": {
      "text/plain": [
       "<matplotlib.axes._subplots.AxesSubplot at 0x7f3f95a59470>"
      ]
     },
     "execution_count": 36,
     "metadata": {},
     "output_type": "execute_result"
    },
    {
     "data": {
      "image/png": "[encoded data removed]",
      "text/plain": [
       "<Figure size 432x288 with 1 Axes>"
      ]
     },
     "metadata": {
      "needs_background": "light"
     },
     "output_type": "display_data"
    }
   ],
   "source": [
    "sns.distplot(train.iloc[i, 6+zero_dict['_'.join(sub1.index[i].split('_')[:-1])][1]:].values,kde=False)"
   ]
  },
  {
   "cell_type": "code",
   "execution_count": null,
   "metadata": {},
   "outputs": [],
   "source": []
  },
  {
   "cell_type": "code",
   "execution_count": null,
   "metadata": {},
   "outputs": [],
   "source": []
  },
  {
   "cell_type": "code",
   "execution_count": 141,
   "metadata": {},
   "outputs": [
    {
     "data": {
      "text/plain": [
       "[<matplotlib.lines.Line2D at 0x7f8f5d4d5a90>]"
      ]
     },
     "execution_count": 141,
     "metadata": {},
     "output_type": "execute_result"
    },
    {
     "data": {
      "image/png": "[encoded data removed]",
      "text/plain": [
       "<Figure size 432x288 with 1 Axes>"
      ]
     },
     "metadata": {
      "needs_background": "light"
     },
     "output_type": "display_data"
    }
   ],
   "source": [
    "plt.plot(train.iloc[i, 1000:].values)"
   ]
  },
  {
   "cell_type": "code",
   "execution_count": null,
   "metadata": {},
   "outputs": [],
   "source": [
    "train"
   ]
  },
  {
   "cell_type": "code",
   "execution_count": 68,
   "metadata": {},
   "outputs": [
    {
     "data": {
      "text/plain": [
       "F1     0.754956\n",
       "F2     0.710293\n",
       "F3     0.723041\n",
       "F4     0.757371\n",
       "F5     0.930978\n",
       "F6       1.0174\n",
       "F7      1.14976\n",
       "F8     0.850865\n",
       "F9     0.856534\n",
       "F10     0.76304\n",
       "F11    0.743174\n",
       "F12    0.892645\n",
       "F13     1.06641\n",
       "F14     0.83836\n",
       "F15    0.849109\n",
       "F16    0.818085\n",
       "F17    0.749403\n",
       "F18    0.734498\n",
       "F19    0.770908\n",
       "F20     0.94337\n",
       "F21    0.963763\n",
       "F22    0.812957\n",
       "F23    0.757883\n",
       "F24    0.723716\n",
       "F25       0.773\n",
       "F26    0.877107\n",
       "F27     1.03438\n",
       "F28    0.944918\n",
       "Name: 0, dtype: object"
      ]
     },
     "execution_count": 68,
     "metadata": {},
     "output_type": "execute_result"
    }
   ],
   "source": [
    "sub.iloc[0,1:]"
   ]
  },
  {
   "cell_type": "code",
   "execution_count": null,
   "metadata": {},
   "outputs": [],
   "source": []
  },
  {
   "cell_type": "code",
   "execution_count": null,
   "metadata": {},
   "outputs": [],
   "source": []
  },
  {
   "cell_type": "code",
   "execution_count": null,
   "metadata": {},
   "outputs": [],
   "source": []
  }
 ],
 "metadata": {
  "kernelspec": {
   "display_name": "Python 3",
   "language": "python",
   "name": "python3"
  },
  "language_info": {
   "codemirror_mode": {
    "name": "ipython",
    "version": 3
   },
   "file_extension": ".py",
   "mimetype": "text/x-python",
   "name": "python",
   "nbconvert_exporter": "python",
   "pygments_lexer": "ipython3",
   "version": "3.7.3"
  }
 },
 "nbformat": 4,
 "nbformat_minor": 4
}
